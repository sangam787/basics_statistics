{
  "cells": [
    {
      "cell_type": "markdown",
      "id": "NqiisEtrx_As",
      "metadata": {
        "id": "NqiisEtrx_As"
      },
      "source": [
        "  # **Assignment Questions:-Statistics**\n",
        "\n",
        "**Types of Data**"
      ]
    },
    {
      "cell_type": "markdown",
      "id": "93ae8327-6acf-4d64-b558-ada387bb8a0f",
      "metadata": {
        "id": "93ae8327-6acf-4d64-b558-ada387bb8a0f"
      },
      "source": [
        "                                    \n",
        "# Que-1. Explain the different types of data (qualitative and quantitative) and provide examples of each. Discuss nominal, ordinal, interval, and ratio scales.\n",
        "\n",
        "# **Ans-1**\n",
        "\n",
        "Majorly, there are two types of data\n",
        "1. Qualitative  2. Quantitative\n",
        "1Qualitative Data :- Qualitative data refers to information about qualities, or information that cannot be measured. It's usually descriptive and textual.\n",
        "Examples include someone's eye colour or the type of car they drive. In surveys, it's often used to categorise 'yes' or 'no' answers.\n",
        "\n",
        "2. Quantitative Data :- Quantitative data is numerical. It's used to define information that can be counted.\n",
        "\n",
        "Some examples of quantitative data include distance, speed, height, length and weight.\n",
        "It's easy to remember the difference between qualitative and quantitative data, as one refers to qualities and the other refers to quantities.\n",
        "A bookshelf, for example,\n",
        "may have 100 books on its shelves and be 100 centimetres tall.\n",
        "These are quantitative data points.\n",
        "The colour of the bookshelf red is a qualitative data point.\n",
        "\n",
        "                                             scales of measurement\n",
        "The four scales of measurement\n",
        "By understanding the scale of the measurement of their data, data scientists can determine the kind of statistical test to perform.\n",
        "\n",
        "1. Nominal scale of measurement\n",
        "\n",
        "The nominal scale of measurement defines the identity property of data. This scale has certain characteristics, but doesn’t have any form of numerical meaning. The data can be placed into categories but can’t be multiplied, divided, added or subtracted from one another. It’s also not possible to measure the difference between data points.\n",
        "\n",
        "Examples of nominal data include eye colour and country of birth. Nominal data can be broken down again into three categories:\n",
        "Nominal with order: Some nominal data can be sub-categorised in order, such as “cold, warm, hot and very hot.”\n",
        "Nominal without order: Nominal data can also be sub-categorised as nominal without order, such as male and female.\n",
        "Dichotomous: Dichotomous data is defined by having only two categories or levels, such as “yes’ and ‘no’.\n",
        "\n",
        "2. Ordinal scale of measurement\n",
        "\n",
        "The ordinal scale defines data that is placed in a specific order. While each value is ranked, there’s no information that specifies what differentiates the categories from each other. These values can’t be added to or subtracted from.\n",
        "\n",
        "An example of this kind of data would include satisfaction data points in a survey, where ‘one = happy, two = neutral and three = unhappy.’ Where someone finished in a race also describes ordinal data. While first place, second place or third place shows what order the runners finished in, it doesn’t specify how far the first-place finisher was in front of the second-place finisher.\n",
        "\n",
        "3. Interval scale of measurement\n",
        "\n",
        "The interval scale contains properties of nominal and ordered data, but the difference between data points can be quantified. This type of data shows both the order of the variables and the exact differences between the variables. They can be added to or subtracted from each other, but not multiplied or divided. For example, 40 degrees is not 20 degrees multiplied by two.\n",
        "\n",
        "This scale is also characterised by the fact that the number zero is an existing variable. In the ordinal scale, zero means that the data does not exist. In the interval scale, zero has meaning – for example, if you measure degrees, zero has a temperature.\n",
        "\n",
        "Data points on the interval scale have the same difference between them. The difference on the scale between 10 and 20 degrees is the same between 20 and 30 degrees. This scale is used to quantify the difference between variables, whereas the other two scales are used to describe qualitative values only. Other examples of interval scales include the year a car was made or the months of the year.\n",
        "\n",
        "4. Ratio scale of measurement\n",
        "\n",
        "Ratio scales of measurement include properties from all four scales of measurement. The data is nominal and defined by an identity, can be classified in order, contains intervals and can be broken down into exact value. Weight, height and distance are all examples of ratio variables. Data in the ratio scale can be added, subtracted, divided and multiplied.\n",
        "\n",
        "Ratio scales also differ from interval scales in that the scale has a ‘true zero’. The number zero means that the data has no value point. An example of this is height or weight, as someone cannot be zero centimetres tall or weigh zero kilos – or be negative centimetres or negative kilos. Examples of the use of this scale are calculating shares or sales. Of all types of data on the scales of measurement, data scientists can do the most with ratio data points. x̄\n",
        "                                         "
      ]
    },
    {
      "cell_type": "markdown",
      "id": "7db12f4f-492f-466f-acf8-f7775601c9a0",
      "metadata": {
        "id": "7db12f4f-492f-466f-acf8-f7775601c9a0"
      },
      "source": [
        "# Que-2. What are the measures of central tendency, and when should you use each? Discuss the mean, median, and mode with examples and situations where each is appropriate.\n",
        "\n",
        "# **Ans-2**\n",
        "    \n",
        "    The representative value of a data set, generally the central value or the most occurring value that gives a general idea of the whole data set is called Measure of Central Tendency.\n",
        "    Measures of Central Tendency\n",
        "Some of the most commonly used measures of central tendency are:\n",
        "    Mean\n",
        "    Median\n",
        "    Mode\n",
        "   \n",
        "    Mean\n",
        "The arithmetic mean of a set of observations is the value around which the set seems to cluster. It is the most popular and well-known measure of central tendency. It is obtained by dividing the sum of all the observations by the number of observations in the group.\n",
        "It is denoted by x̄ : hence x̄ = sum of all the observations / number of observations\n",
        "Mean for Ungrouped Data\n",
        "Arithmetic mean\n",
        "Mean = Sum of all Observations ÷ Total number of Observations\n",
        "Example: If there are 5 observations, which are 27, 11, 17, 19, and 21 then the mean (x̄) is given by\n",
        "⇒ x̄ = (27 + 11 + 17 + 19 + 21) ÷ 5\n",
        "⇒ x̄ = 95 ÷ 5\n",
        "⇒ x̄ = 19\n",
        "\n",
        "    \n",
        "    Median\n",
        "Median of any distribution is that value that divides the distribution into two equal parts such that the number of observations above it is equal to the number of observations below it. Thus, the median is called the central value of any given data either grouped or ungrouped.\n",
        "\n",
        "Median of Ungrouped Data\n",
        "To calculate the Median, the observations must be arranged in ascending or descending order. If the total number of observations is N then there are two cases\n",
        "\n",
        "Case 1: N is Odd\n",
        "Median = Value of observation at [(n + 1) ÷ 2]th Position When N is odd the median is calculated.\n",
        "\n",
        "Case 2: N is Even\n",
        "Median = Arithmetic mean of Values of observations at (n ÷ 2)th and [(n ÷ 2) + 1]th Position When N is even the median is calculated.\n",
        "\n",
        "Example 1: If the observations are 25, 36, 31, 23, 22, 26, 38, 28, 20, 32 then the Median is given by\n",
        "\n",
        "Arranging the data in ascending order: 20, 22, 23, 25, 26, 28, 31, 32, 36, 38\n",
        "N = 10 which is even then\n",
        "Median = Arithmetic mean of values at (10 ÷ 2)th and [(10 ÷ 2) + 1]th position\n",
        "⇒ Median = (Value at 5th position + Value at 6th position) ÷ 2\n",
        "⇒ Median = (26 + 28) ÷ 2\n",
        "⇒ Median = 27\n",
        "\n",
        "\n",
        "    Mode\n",
        "Mode is the value of that observation which has a maximum frequency corresponding to it. In other, that observation of the data occurs the maximum number of times in a dataset.\n",
        "mode of ungrouped data.\n",
        "Example\n",
        "a table with each observation with its frequency as follows:\n",
        "\n",
        "xi = 5, 3, 4, 7\n",
        "fi = 2, 4, 2, 1\n",
        "Since 3 has occurred a maximum number of times i.e. 4 times in the given data;\n",
        "Hence, Mode of the given ungrouped data is 3."
      ]
    },
    {
      "cell_type": "markdown",
      "id": "f802f61d-4202-46b1-983b-6d24e9c8b9a4",
      "metadata": {
        "id": "f802f61d-4202-46b1-983b-6d24e9c8b9a4"
      },
      "source": [
        "# Que-3. Explain the concept of dispersion. How do variance and standard deviation measure the spread of data?\n",
        "\n",
        "# **Ans-3**\n",
        "\n",
        "Measures of Dispersion are used to represent the scattering of data. These are the numbers that show the various aspects of the data spread across various parameters.\n",
        "Dispersion in statistics is a way to describe how spread out or scattered the data is around an average value. It helps to understand if the data points are close together or far apart.\n",
        "Dispersion shows the variability or consistency in a set of data. There are different measures of dispersion like range, variance, and standard deviation.\n",
        "Measures of Dispersion measure the scattering of the data. It tells us how the values are distributed in the data set. In statistics, we define the measure of dispersion as various parameters that are used to define the various attributes of the data.\n",
        "\n",
        "Variance\n",
        "Variance is defined as, “The measure of how far the set of data is dispersed from their mean value”. Variance is represented with the symbol σ2. In other words, we can also say that the variance is the average of the squared difference from the mean.\n",
        "\n",
        "Standard Deviation\n",
        "How far our given set of data varies along with the mean of the data is measured in standard deviation. Thus, we define standard deviation as the “spread of the statistical data from the mean or average position”. We denote the standard deviation of the data using the symbol σ.\n",
        "We can also define the standard deviation as the square root of the variance.\n"
      ]
    },
    {
      "cell_type": "markdown",
      "id": "61933c1e-94c0-4661-8f83-66b952efbed3",
      "metadata": {
        "id": "61933c1e-94c0-4661-8f83-66b952efbed3"
      },
      "source": [
        "# Que-4. What is a box plot, and what can it tell you about the distribution of data?\"\n",
        "\n",
        "# **Ans-4**\n",
        "\n",
        "The idea of box plot was presented by John Tukey in 1970. He wrote about it in his book “Exploratory Data Analysis” in 1977. Box plot is also known as a whisker plot, box-and-whisker plot, or simply a box-and whisker diagram. Box plot is a graphical representation of the distribution of a dataset. It displays key summary statistics such as the median, quartiles, and potential outliers in a concise and visual manner. By using Box plot you can provide a summary of the distribution, identify potential and compare different datasets in a compact and visual manner.\n",
        "\n",
        "Elements of Box Plot\n",
        "A box plot gives a five-number summary of a set of data which is-\n",
        "\n",
        "Minimum – It is the minimum value in the dataset excluding the outliers.\n",
        "First Quartile (Q1) – 25% of the data lies below the First (lower) Quartile.\n",
        "Median (Q2) – It is the mid-point of the dataset. Half of the values lie below it and half above.\n",
        "Third Quartile (Q3) – 75% of the data lies below the Third (Upper) Quartile.\n",
        "Maximum – It is the maximum value in the dataset excluding the outliers."
      ]
    },
    {
      "cell_type": "markdown",
      "id": "524cbe5c-62f3-4870-8c57-32314d4afc80",
      "metadata": {
        "id": "524cbe5c-62f3-4870-8c57-32314d4afc80"
      },
      "source": [
        "# Que-5. Discuss the role of random sampling in making inferences about populations.\n",
        "\n",
        "# **Ans-5**\n",
        "\n",
        "Random sampling is a method used in statistics to select a subset of individuals or items from a larger population in such a way that each member of the population has an equal and independent chance of being included in the sample. It is a fundamental technique for conducting surveys and experiments.\n",
        "\n",
        "Simple random sampling is often used when researchers need to make generalizations about the population based on the sample data, as it provides an unbiased estimate of population parameters.\n",
        "\n",
        "Simple random sampling involves randomly selecting items without any specific pattern or criteria. For example simple random sampling involves the unbiased, purely random selection of individuals from the population, where each member has an equal chance of being included. Each member of the population has an equal chance of being chosen, like drawing names from a hat."
      ]
    },
    {
      "cell_type": "markdown",
      "id": "1d10050c-31cb-4cfc-b415-0eed25f8de10",
      "metadata": {
        "id": "1d10050c-31cb-4cfc-b415-0eed25f8de10"
      },
      "source": [
        "# Que-6. Explain the concept of skewness and its types. How does skewness affect the interpretation of data?\n",
        "\n",
        "# **Ans-6**\n",
        "\n",
        "Skewness is a measure of a symmetry or distortion of symmetric distribution. It measures the deviation of the given distribution of a random variable from a symmetric distribution, such as normal distribution. A normal distribution is without any skewness, as it is symmetrical on both sides. Hence, a curve is regarded as skewed if it is shifted towards the right or the left.\n",
        "\n",
        "Types of Skewness\n",
        "1. Positive Skewness\n",
        "If the given distribution is shifted to the left and with its tail on the right side, it is a positively skewed distribution. It is also called the right-skewed distribution. A tail is referred to as the tapering of the curve differently from the data points on the other side.\n",
        "\n",
        "As the name suggests, a positively skewed distribution assumes a skewness value of more than zero. Since the skewness of the given distribution is on the right, the mean value is greater than the median and moves towards the right, and the mode occurs at the highest frequency of the distribution.\n",
        "\n",
        "2. Negative Skewness\n",
        "If the given distribution is shifted to the right and with its tail on the left side, it is a negatively skewed distribution. It is also called a left-skewed distribution. The skewness value of any distribution showing a negative skew is always less than zero. The skewness of the given distribution is on the left; hence, the mean value is less than the median and moves towards the left, and the mode occurs at the highest frequency of the distribution."
      ]
    },
    {
      "cell_type": "markdown",
      "id": "43931098-b102-4555-bc71-2836e6250887",
      "metadata": {
        "id": "43931098-b102-4555-bc71-2836e6250887"
      },
      "source": [
        "# Que-7. What is the interquartile range (IQR), and how is it used to detect outliers?\n",
        "\n",
        "# **Ans-7**\n",
        "\n",
        "IQR is used to measure variability by dividing a data set into quartiles. The data is sorted in ascending order and split into 4 equal parts. Q1, Q2, Q3 called first, second and third quartiles are the values which separate the 4 equal parts.\n",
        "\n",
        "Q1 represents the 25th percentile of the data.\n",
        "Q2 represents the 50th percentile of the data.\n",
        "Q3 represents the 75th percentile of the data.\n"
      ]
    },
    {
      "cell_type": "markdown",
      "id": "2dcfe374-2bc5-4eae-91e5-fb9852cff298",
      "metadata": {
        "id": "2dcfe374-2bc5-4eae-91e5-fb9852cff298"
      },
      "source": [
        "# Que-8. Discuss the conditions under which the binomial distribution is used.\n",
        "\n",
        "# **Ans-8**\n",
        "\n",
        "A binomial distribution is used to model the number of successes in a trial or experiment when the following conditions are met:    \n",
        "Fixed number of trials\n",
        "The number of trials is fixed and cannot be changed during the analysis.\n",
        "\n",
        "Two possible outcomes\n",
        "Each trial has only two possible outcomes, usually called \"success\" or \"failure\".\n",
        "\n",
        "Fixed probability of success\n",
        "The probability of success is constant and remains the same for each trial.\n",
        "\n",
        "Independent trials\n",
        "The outcome of each trial is independent of all other trials. This means that the result of one trial does not affect the results of subsequent trials.\n"
      ]
    },
    {
      "cell_type": "markdown",
      "id": "c6cb9491-1032-4401-bd41-ea3d0200cc9f",
      "metadata": {
        "id": "c6cb9491-1032-4401-bd41-ea3d0200cc9f"
      },
      "source": [
        "# Que-9. Explain the properties of the normal distribution and the empirical rule (68-95-99.7 68-95-99.7 rule).\n",
        "\n",
        "# **Ans-9**\n",
        "\n",
        "Normal Distributions-\n",
        "\n",
        "Normal distributions, also known as Gaussian distributions, which are a fundamental concept in Statistics and the Probability theory. They depict the distribution of a continuous random variable in which a symmetric, bell-shaped curve forms as the data tends to cluster around the mean. The mean, median, and mode of a normal distribution are all equal and situated in the middle of the curve, resulting in a balanced distribution. Smooth, symmetrical curves with infinitely long tails that taper off gradually as they deviate from the mean are the defining characteristics of this geometry. Since there is only one area under the curve, all conceivable outcomes are represented.\n",
        "68-95-99.7 rule, is one characteristic that distinguishes normal distributions. According to this criteria, around 99.7% of the data falls within three standard deviations, almost 95% falls within two standard deviations, and roughly 68% falls within one standard deviation of the mean.\n",
        "\n",
        "\n",
        "The Empirical Rule is directly related to the properties of the normal distribution's PDF. Here's how they are connected:\n",
        "Normal Distribution: The normal distribution is a continuous probability distribution characterized by its symmetric, bell-shaped PDF. The mean (μ\\muμ) and standard deviation (σ\\sigmaσ) fully describe the distribution.\n",
        "Area under the PDF Curve: The probabilities given by the Empirical Rule correspond to the areas under the PDF curve of the normal distribution:\n",
        "The area between μ−σ and μ+σ is about 68% of the total area under the curve.\n",
        "The area between μ−2σ and μ+2σ is about 95% of the total area.\n",
        "The area between μ−3σ and μ+3σ is about 99.7% of the total area.\n",
        "Standard Normal Distribution: When a normal distribution is standardized (i.e., converted to a standard normal distribution with μ=0 and σ=1, the Empirical Rule still applies. This makes it a useful tool for quickly estimating probabilities and understanding data spread.\n",
        "\n",
        "\n",
        "The empirical rule,\n",
        "\n",
        "sometimes referred to as the three-sigma rule or the 68-95-99 rule, is a basic idea in statistics that offers a simple and quick method of comprehending the distribution of data in a normal distribution. The normal distribution, a symmetric, bell-shaped curve that characterizes a wide range of natural events and statistical processes, is the foundation of this rule.\n",
        "Consider a bell curve that illustrates the distribution of data around an average value. We refer to this as a normal distribution. We can better comprehend this distribution by using the 68-95-99 rule. It states that around 68% of the data, approximately 95% of the data, and approximately 99.7% of the data lie within one, two, and three standard deviations of the average.."
      ]
    },
    {
      "cell_type": "markdown",
      "id": "495b0748-e138-40f2-9fe7-9de4414110c6",
      "metadata": {
        "id": "495b0748-e138-40f2-9fe7-9de4414110c6"
      },
      "source": [
        "# Que-10. Provide a real-life example of a Poisson process and calculate the probability for a specific event.\n",
        "\n",
        "# **Ans-10**\n",
        "\n",
        "Number of Website Visitors per Hour\n",
        "Website hosting companies use the Poisson distribution to model the number of expected visitors per hour that websites will receive.\n",
        "\n",
        "For example, suppose a given website receives an average of 20 visitors per hour. We can use the Poisson distribution calculator to find the probability that the website receives more than a certain number of visitors in a given hour:\n",
        "\n",
        "P(X > 25 visitors) = 0.11218\n",
        "P(X > 30 visitors) = 0.01347\n",
        "P(X > 35 visitors) = 0.00080\n",
        "And so on.\n",
        "\n",
        "This gives hosting companies an idea of how much bandwidth to provide to different websites to ensure that they’ll be able to handle a certain number of visitors each hour."
      ]
    },
    {
      "cell_type": "markdown",
      "id": "7bb80d6e-d7c5-4054-aa2b-0517f411d0b3",
      "metadata": {
        "id": "7bb80d6e-d7c5-4054-aa2b-0517f411d0b3"
      },
      "source": [
        "# Que- 11. Explain what a random variable is and differentiate between discrete and continuous random variables.\n",
        "\n",
        "# **Ans-11**\n",
        "\n",
        "A random variable is a variable with an unknown value or a function that assigns values to the outcomes of an experiment. The main difference between discrete and continuous random variables is the range of values they can take:\n",
        "\n",
        "Discrete random variables\n",
        "Have a finite number of possible values. For example, rolling a six-sided die has a discrete random variable because it can only land on one of six numbers.\n",
        "\n",
        "Continuous random variables\n",
        "Can take any value within a given interval. For example, the mass of an animal is a continuous random variable because it could be any non-negative number.\n",
        "\n",
        "Here are some other differences between discrete and continuous random variables:\n",
        "\n",
        "Range-\n",
        "The range of a discrete distribution is countable, while the range of a continuous variable is not.\n",
        "\n",
        "Use-\n",
        "Discrete random variables are used for counting, while continuous random variables are used for measuring.\n",
        "\n",
        "Mathematical methods-\n",
        "Summation is used to find a range of probabilities for discrete random variables, while integration is used for continuous random variables.\n"
      ]
    },
    {
      "cell_type": "markdown",
      "id": "c762ba51-34e3-420a-9b05-e5ea18a5eace",
      "metadata": {
        "id": "c762ba51-34e3-420a-9b05-e5ea18a5eace"
      },
      "source": [
        "# Que-12. Provide an example dataset, calculate both covariance and correlation, and interpret the results.\n",
        "\n",
        "# **Ans-12**"
      ]
    },
    {
      "cell_type": "code",
      "execution_count": 1,
      "id": "HovHq40VylgY",
      "metadata": {
        "colab": {
          "base_uri": "https://localhost:8080/"
        },
        "id": "HovHq40VylgY",
        "outputId": "bc03bba6-4ac6-436d-8302-ec90f5d269e7"
      },
      "outputs": [
        {
          "name": "stdout",
          "output_type": "stream",
          "text": [
            "Covariance 116.3265306122449\n",
            "Correlation 1.0\n"
          ]
        }
      ],
      "source": [
        "import numpy as np\n",
        "\n",
        "#example of dataset\n",
        "temperature = [25, 28, 30, 22, 20, 26, 29]\n",
        "ice_cream_sales = [150, 180, 200, 120, 100, 160, 190]\n",
        "\n",
        "#calculating covariance\n",
        "covariance = np.cov(temperature, ice_cream_sales, bias = True)[0][1]\n",
        "\n",
        "#calculating correlation\n",
        "correlation = np.corrcoef(temperature, ice_cream_sales)[0][1]\n",
        "\n",
        "print(\"Covariance\", covariance)\n",
        "print(\"Correlation\", correlation)\n"
      ]
    }
  ],
  "metadata": {
    "colab": {
      "provenance": []
    },
    "kernelspec": {
      "display_name": "Python 3 (ipykernel)",
      "language": "python",
      "name": "python3"
    },
    "language_info": {
      "codemirror_mode": {
        "name": "ipython",
        "version": 3
      },
      "file_extension": ".py",
      "mimetype": "text/x-python",
      "name": "python",
      "nbconvert_exporter": "python",
      "pygments_lexer": "ipython3",
      "version": "3.12.7"
    }
  },
  "nbformat": 4,
  "nbformat_minor": 5
}
